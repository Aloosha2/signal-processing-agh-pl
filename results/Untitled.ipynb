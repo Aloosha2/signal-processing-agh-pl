{
 "cells": [
  {
   "cell_type": "code",
   "execution_count": 132,
   "id": "f203e211-a267-4ea5-8ce1-931f49eff494",
   "metadata": {},
   "outputs": [
    {
     "name": "stdout",
     "output_type": "stream",
     "text": [
      "The jupyternotify extension is already loaded. To reload it, use:\n",
      "  %reload_ext jupyternotify\n"
     ]
    }
   ],
   "source": [
    "import librosa\n",
    "import librosa.display\n",
    "import numpy as np\n",
    "import matplotlib.pyplot as plt\n",
    "import soundfile as sf\n",
    "import time"
   ]
  },
  {
   "cell_type": "code",
   "execution_count": 138,
   "id": "26670fbb-9789-4c81-8bc2-13a2820b23c7",
   "metadata": {},
   "outputs": [],
   "source": [
    "def min_vertical_seam_energy(pixel_energies):\n",
    "    height, width = pixel_energies.shape\n",
    "    seam_energies = np.zeros((height, width))\n",
    "    back_pointers = np.zeros((height, width), dtype=int)\n",
    "\n",
    "    seam_energies[0] = pixel_energies[0]\n",
    "\n",
    "    for y in range(1, height):\n",
    "        for x in range(width):\n",
    "            x_left = max(x - 1, 0)\n",
    "            x_right = min(x + 1, width - 1)\n",
    "            min_parent_x = x_left + np.argmin(seam_energies[y - 1, x_left:x_right + 1])\n",
    "\n",
    "            seam_energies[y, x] = pixel_energies[y, x] + seam_energies[y - 1, min_parent_x]\n",
    "            back_pointers[y, x] = min_parent_x\n",
    "\n",
    "    min_energy = np.min(seam_energies[-1])\n",
    "    return min_energy\n",
    "    \n",
    "def find_vertical_seam(pixel_energies):\n",
    "    height, width = pixel_energies.shape\n",
    "    seam_energies = np.zeros((height, width))\n",
    "    back_pointers = np.zeros((height, width), dtype=int)\n",
    "\n",
    "    seam_energies[0] = pixel_energies[0]\n",
    "\n",
    "    for y in range(1, height):\n",
    "        for x in range(width):\n",
    "            x_left = max(x - 1, 0)\n",
    "            x_right = min(x + 1, width - 1)\n",
    "            min_parent_x = x_left + np.argmin(seam_energies[y - 1, x_left:x_right + 1])\n",
    "\n",
    "            seam_energies[y, x] = pixel_energies[y, x] + seam_energies[y - 1, min_parent_x]\n",
    "            back_pointers[y, x] = min_parent_x\n",
    "\n",
    "    min_seam_end_x = np.argmin(seam_energies[-1])\n",
    "    seam = []\n",
    "\n",
    "    seam_point_x = min_seam_end_x\n",
    "    for y in range(height - 1, -1, -1):\n",
    "        seam.append((seam_point_x, y))\n",
    "        seam_point_x = back_pointers[y, seam_point_x]\n",
    "\n",
    "    seam.reverse()\n",
    "    return seam\n",
    "\n",
    "# Perform seam carving\n",
    "def carve_seam(magnitude, phase, seam_path):\n",
    "    height, width = magnitude.shape\n",
    "    mask = np.ones((height, width), dtype=bool)\n",
    "    for x, y in seam_path:\n",
    "        mask[y, x] = False\n",
    "    new_magnitude = magnitude[mask].reshape((height, width - 1))\n",
    "    new_phase = phase[mask].reshape((height, width - 1))\n",
    "    return new_magnitude, new_phase\n",
    "\n",
    "def carve_audio(n_of_seams, magnitude, phase, is_vertical=True):\n",
    "    original_height, original_width = magnitude.shape\n",
    "    if is_vertical:\n",
    "        for _ in range(n_of_seams):\n",
    "            seam_path = find_vertical_seam(magnitude)\n",
    "            magnitude, phase = carve_seam(magnitude, phase, seam_path)\n",
    "        new_height, new_width = magnitude.shape\n",
    "        if new_width < original_width:\n",
    "            pad_width = original_width - new_width\n",
    "            # Pad at the rightmost part of the matrix\n",
    "            magnitude = np.pad(magnitude, ((0, 0), (0, pad_width)), mode='constant')\n",
    "            phase = np.pad(phase, ((0, 0), (0, pad_width)), mode='constant')\n",
    "    else:\n",
    "        magnitude = np.rot90(magnitude, k=-1)\n",
    "        phase = np.rot90(phase, k=-1)\n",
    "        for _ in range(n_of_seams):\n",
    "            seam_path = find_vertical_seam(magnitude)\n",
    "            magnitude, phase = carve_seam(magnitude, phase, seam_path)\n",
    "        magnitude = np.rot90(magnitude, k=1)\n",
    "        phase = np.rot90(phase, k=1)\n",
    "        \n",
    "        new_height, new_width = magnitude.shape\n",
    "        if new_height < original_height:\n",
    "            pad_height = original_height - new_height\n",
    "            # magnitude = np.pad(magnitude, ((pad_height, 0), (0, 0)), mode='constant')\n",
    "            # phase = np.pad(phase, ((pad_height, 0), (0, 0)), mode='constant')\n",
    "            magnitude = np.pad(magnitude, ((0, pad_height), (0, 0)), mode='constant')\n",
    "            phase = np.pad(phase, ((0, pad_height), (0, 0)), mode='constant')\n",
    "            \n",
    "    return magnitude, phase"
   ]
  },
  {
   "cell_type": "code",
   "execution_count": 139,
   "id": "80ef2eed-ec44-4c06-9e76-2afe6c65ac41",
   "metadata": {},
   "outputs": [
    {
     "name": "stdout",
     "output_type": "stream",
     "text": [
      "44100 sr_flute sampling rate\n"
     ]
    }
   ],
   "source": [
    "# Load in sounds\n",
    "NJ, srNJ = librosa.load('NewJeansOMG.wav', sr=None, mono=True)\n",
    "print(srNJ, \"sr_flute sampling rate\")"
   ]
  },
  {
   "cell_type": "code",
   "execution_count": 140,
   "id": "7277bdca-d6c2-4467-aa15-5445cf431edc",
   "metadata": {},
   "outputs": [
    {
     "name": "stdout",
     "output_type": "stream",
     "text": [
      "shape of magnitude before (1025, 1332)\n",
      "shape of phase before (1025, 1332)\n",
      "NJ shape (original):  (681786,)\n"
     ]
    }
   ],
   "source": [
    "D = librosa.stft(NJ)\n",
    "magnitudeNJ = np.abs(D)\n",
    "phaseNJ = np.angle(D)\n",
    "magnitudeNJ = np.array(magnitudeNJ)\n",
    "phaseNJ = np.array(phaseNJ)\n",
    "print(\"shape of magnitude before\", magnitudeNJ.shape)\n",
    "print(\"shape of phase before\", phaseNJ.shape)\n",
    "print(\"NJ shape (original): \", NJ.shape)"
   ]
  },
  {
   "cell_type": "code",
   "execution_count": 141,
   "id": "119e008e-bb0d-429b-910c-d946578094ed",
   "metadata": {},
   "outputs": [
    {
     "name": "stdout",
     "output_type": "stream",
     "text": [
      "shape of magnitude after (1025, 1332)\n",
      "shape of phase after (1025, 1332)\n",
      "The time of execution of above program is : 244277.46295928955 ms\n"
     ]
    }
   ],
   "source": [
    "n_of_seams = 200\n",
    "start = time.time()\n",
    "magnitude, phase = carve_audio(n_of_seams, magnitudeNJ, phaseNJ, is_vertical=True)\n",
    "end = time.time()\n",
    "print(\"shape of magnitude after\", magnitude.shape)\n",
    "print(\"shape of phase after\", phase.shape)\n",
    "print(\"The time of execution of above program is :\",\n",
    "      (end-start) * 10**3, \"ms\")"
   ]
  },
  {
   "cell_type": "code",
   "execution_count": 142,
   "id": "2d695670-df3c-4d36-808f-c154da6064db",
   "metadata": {},
   "outputs": [
    {
     "name": "stdout",
     "output_type": "stream",
     "text": [
      "complex_spectrogram_vertical shape:  (1025, 1332)\n",
      "reconstructed_signal_vertical shape:  (681472,)\n"
     ]
    }
   ],
   "source": [
    "# Reconstruct the complex spectrogram\n",
    "complex_spectrogram_vertical = magnitude * np.exp(1j * phase)\n",
    "\n",
    "reconstructed_signal_vertical = librosa.istft(complex_spectrogram_vertical) #ISSUE HERE CHANGES TO MONO\n",
    "\n",
    "output_filename = f'NewJeansOMG_vertical{n_of_seams}.wav'\n",
    "\n",
    "# Write the reconstructed audio signal to a file using soundfile\n",
    "sf.write(output_filename, reconstructed_signal_vertical, srNJ) #OR HERE CHANGES TO MONO\n",
    "print(\"complex_spectrogram_vertical shape: \", complex_spectrogram_vertical.shape)\n",
    "print(\"reconstructed_signal_vertical shape: \", reconstructed_signal_vertical.shape)"
   ]
  },
  {
   "cell_type": "code",
   "execution_count": 146,
   "id": "e033cf8a-73fb-4df2-b646-feb5566ab3aa",
   "metadata": {},
   "outputs": [],
   "source": [
    "redo = librosa.stft(reconstructed_signal_vertical)\n",
    "again_reconstruct = librosa.istft(redo)\n",
    "#sf.write(\"redo.wav\", again_reconstruct, srNJ) #OR HERE CHANGES TO MONO"
   ]
  },
  {
   "cell_type": "code",
   "execution_count": 90,
   "id": "4b45a0d9-735f-4c4f-a0a7-f7b31019ad75",
   "metadata": {},
   "outputs": [],
   "source": [
    "#other"
   ]
  },
  {
   "cell_type": "code",
   "execution_count": 124,
   "id": "ed9c6f1e-2ead-4429-a1e7-1f046a5c3242",
   "metadata": {},
   "outputs": [
    {
     "name": "stdout",
     "output_type": "stream",
     "text": [
      "shape of magnitude before (1025, 1332)\n",
      "shape of phase before (1025, 1332)\n",
      "44100\n",
      "D shape:  (1025, 1332)\n",
      "NJH shape (original signal):  (681786,)\n"
     ]
    }
   ],
   "source": [
    "#NJ, srNJ = librosa.load('NewJeansOMG.wav', sr=None, mono=False)\n",
    "NJH, srNJH = librosa.load('NewJeansOMG.wav', sr=None, mono=True)\n",
    "D = librosa.stft(NJH)\n",
    "magnitudeNJH = np.abs(D)\n",
    "phaseNJH = np.angle(D)\n",
    "magnitudeNJH = np.array(magnitudeNJH)\n",
    "phaseNJH = np.array(phaseNJH)\n",
    "print(\"shape of magnitude before\", magnitudeNJH.shape)\n",
    "print(\"shape of phase before\", phaseNJH.shape)\n",
    "print(srNJH)\n",
    "print(\"D shape: \", D.shape)\n",
    "print(\"NJH shape (original signal): \", NJH.shape)"
   ]
  },
  {
   "cell_type": "code",
   "execution_count": 121,
   "id": "0eb7a52f-c8fc-4a2a-ab9d-26b54195e94a",
   "metadata": {},
   "outputs": [
    {
     "name": "stdout",
     "output_type": "stream",
     "text": [
      "shape of magnitude after (1025, 1332)\n",
      "shape of phase after (1025, 1332)\n",
      "The time of execution of above program is : 546976.4778614044 ms\n"
     ]
    }
   ],
   "source": [
    "# DONT RUN UNLESS YOU WANT TO DO THE CARVING\n",
    "n_of_seams = 600\n",
    "start = time.time()\n",
    "magnitude1, phase1 = carve_audio(n_of_seams, magnitudeNJH, phaseNJH, is_vertical=False)\n",
    "end = time.time()\n",
    "print(\"shape of magnitude after\", magnitude1.shape)\n",
    "print(\"shape of phase after\", phase1.shape)\n",
    "print(\"The time of execution of above program is :\",\n",
    "      (end-start) * 10**3, \"ms\")"
   ]
  },
  {
   "cell_type": "code",
   "execution_count": 122,
   "id": "5f433a11-8630-48cc-bd60-063caeba998c",
   "metadata": {},
   "outputs": [
    {
     "name": "stdout",
     "output_type": "stream",
     "text": [
      "complex_spectrogram_horizontal shape:  (1025, 1332)\n",
      "reconstructed_signal_horizontal shape:  (681472,)\n"
     ]
    }
   ],
   "source": [
    "# Reconstruct the complex spectrogram\n",
    "complex_spectrogram_horizontal = magnitude1 * np.exp(1j * phase1)\n",
    "\n",
    "reconstructed_signal_horizontal = librosa.istft(complex_spectrogram_horizontal) #ISSUE HERE CHANGES TO MONO\n",
    "\n",
    "output_filename = f'NewJeansOMG_horizontal{n_of_seams}.wav'\n",
    "\n",
    "# Write the reconstructed audio signal to a file using soundfile\n",
    "sf.write(output_filename, reconstructed_signal_horizontal, srNJH)\n",
    "print(\"complex_spectrogram_horizontal shape: \", complex_spectrogram_horizontal.shape)\n",
    "print(\"reconstructed_signal_horizontal shape: \", reconstructed_signal_horizontal.shape)"
   ]
  },
  {
   "cell_type": "code",
   "execution_count": 131,
   "id": "47d602f3-25e8-47bc-ae7e-86cd47f1bc9a",
   "metadata": {},
   "outputs": [
    {
     "name": "stdout",
     "output_type": "stream",
     "text": [
      "[[2 4 5 8]\n",
      " [6 7 3 6]\n",
      " [4 1 9 8]]\n",
      "\n",
      "[[2 4 5 8]\n",
      " [6 7 3 6]\n",
      " [4 1 9 8]]\n",
      "\n",
      "[[5 8 0 0]\n",
      " [7 6 0 0]\n",
      " [9 8 0 0]]\n",
      "\n",
      "[[5 8 0 0]\n",
      " [7 6 0 0]\n",
      " [9 8 0 0]]\n",
      "\n",
      "[[6 7 9 8]\n",
      " [0 0 0 0]\n",
      " [0 0 0 0]]\n",
      "\n",
      "[[6 7 9 8]\n",
      " [0 0 0 0]\n",
      " [0 0 0 0]]\n",
      "(3, 4)\n"
     ]
    }
   ],
   "source": [
    "m = np.array([[2,4,5,8], [6,7,3, 6], [4,1,9, 8]])\n",
    "print(m)\n",
    "p = np.array([[2,4,5,8], [6,7,3, 6], [4,1,9, 8]])\n",
    "a=m\n",
    "b=p\n",
    "n_of_seams = 2\n",
    "print()\n",
    "print(p)\n",
    "print()\n",
    "m, p = carve_audio(n_of_seams, m, p, is_vertical=True)\n",
    "print(m)\n",
    "print()\n",
    "print(p)\n",
    "print()\n",
    "a, b = carve_audio(n_of_seams, a, b, is_vertical=False)\n",
    "print(a)\n",
    "print()\n",
    "print(b)\n",
    "print(a.shape)"
   ]
  },
  {
   "cell_type": "code",
   "execution_count": null,
   "id": "ff4438e3-b28b-4f81-92a8-399f7f60f379",
   "metadata": {},
   "outputs": [],
   "source": []
  }
 ],
 "metadata": {
  "kernelspec": {
   "display_name": "Python 3 (ipykernel)",
   "language": "python",
   "name": "python3"
  },
  "language_info": {
   "codemirror_mode": {
    "name": "ipython",
    "version": 3
   },
   "file_extension": ".py",
   "mimetype": "text/x-python",
   "name": "python",
   "nbconvert_exporter": "python",
   "pygments_lexer": "ipython3",
   "version": "3.11.7"
  }
 },
 "nbformat": 4,
 "nbformat_minor": 5
}

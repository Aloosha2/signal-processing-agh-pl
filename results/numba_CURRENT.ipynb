{
 "cells": [
  {
   "cell_type": "code",
   "execution_count": 23,
   "id": "ca53f6e5-f49f-423f-9dbe-74f05640ea6a",
   "metadata": {},
   "outputs": [],
   "source": [
    "import librosa\n",
    "import librosa.display\n",
    "import numpy as np\n",
    "import matplotlib.pyplot as plt\n",
    "import soundfile as sf\n",
    "import time\n",
    "from numba import njit"
   ]
  },
  {
   "cell_type": "code",
   "execution_count": 24,
   "id": "7f4c9c05-abb9-4daa-9d21-caa80c22b390",
   "metadata": {},
   "outputs": [],
   "source": [
    "@njit\n",
    "def min_vertical_seam_energy(pixel_energies):\n",
    "    height, width = pixel_energies.shape\n",
    "    seam_energies = np.zeros((height, width))\n",
    "    back_pointers = np.zeros((height, width), dtype=np.int32)\n",
    "\n",
    "    seam_energies[0] = pixel_energies[0]\n",
    "\n",
    "    for y in range(1, height):\n",
    "        for x in range(width):\n",
    "            x_left = max(x - 1, 0)\n",
    "            x_right = min(x + 1, width - 1)\n",
    "            min_parent_x = x_left + np.argmin(seam_energies[y - 1, x_left:x_right + 1])\n",
    "\n",
    "            seam_energies[y, x] = pixel_energies[y, x] + seam_energies[y - 1, min_parent_x]\n",
    "            back_pointers[y, x] = min_parent_x\n",
    "\n",
    "    min_energy = np.min(seam_energies[-1])\n",
    "    return min_energy\n",
    "\n",
    "@njit\n",
    "def find_vertical_seam(pixel_energies):\n",
    "    height, width = pixel_energies.shape\n",
    "    seam_energies = np.zeros((height, width))\n",
    "    back_pointers = np.zeros((height, width), dtype=np.int32)\n",
    "\n",
    "    seam_energies[0] = pixel_energies[0]\n",
    "\n",
    "    for y in range(1, height):\n",
    "        for x in range(width):\n",
    "            x_left = max(x - 1, 0)\n",
    "            x_right = min(x + 1, width - 1)\n",
    "            min_parent_x = x_left + np.argmin(seam_energies[y - 1, x_left:x_right + 1])\n",
    "\n",
    "            seam_energies[y, x] = pixel_energies[y, x] + seam_energies[y - 1, min_parent_x]\n",
    "            back_pointers[y, x] = min_parent_x\n",
    "\n",
    "    min_seam_end_x = np.argmin(seam_energies[-1])\n",
    "    seam = []\n",
    "\n",
    "    seam_point_x = min_seam_end_x\n",
    "    for y in range(height - 1, -1, -1):\n",
    "        seam.append((seam_point_x, y))\n",
    "        seam_point_x = back_pointers[y, seam_point_x]\n",
    "\n",
    "    seam.reverse()\n",
    "    return seam\n",
    "\n",
    "def carve_seam(magnitude, phase, seam_path):\n",
    "    height, width = magnitude.shape\n",
    "    mask = np.ones((height, width), dtype=bool)\n",
    "    for x, y in seam_path:\n",
    "        mask[y, x] = False\n",
    "    new_magnitude = magnitude[mask].reshape((height, width - 1))\n",
    "    new_phase = phase[mask].reshape((height, width - 1))\n",
    "    return new_magnitude, new_phase\n",
    "\n",
    "\n",
    "def carve_audio(n_of_seams, magnitude, phase, is_vertical=True):\n",
    "    original_height, original_width = magnitude.shape\n",
    "    if is_vertical:\n",
    "        for _ in range(n_of_seams):\n",
    "            seam_path = find_vertical_seam(magnitude)\n",
    "            magnitude, phase = carve_seam(magnitude, phase, seam_path)\n",
    "    else:\n",
    "        magnitude = np.rot90(magnitude, k=-1)\n",
    "        phase = np.rot90(phase, k=-1)\n",
    "        for _ in range(n_of_seams):\n",
    "            seam_path = find_vertical_seam(magnitude)\n",
    "            magnitude, phase = carve_seam(magnitude, phase, seam_path)\n",
    "        magnitude = np.rot90(magnitude, k=1)\n",
    "        phase = np.rot90(phase, k=1)\n",
    "\n",
    "        new_height, new_width = magnitude.shape\n",
    "        if new_height < original_height:\n",
    "            pad_height = original_height - new_height\n",
    "            magnitude = np.pad(magnitude, ((0, pad_height), (0, 0)), mode='constant')\n",
    "            phase = np.pad(phase, ((0, pad_height), (0, 0)), mode='constant')\n",
    "\n",
    "    return magnitude, phase"
   ]
  },
  {
   "cell_type": "code",
   "execution_count": 25,
   "id": "1cad5b35-237b-40a9-a6e9-f1f180714e31",
   "metadata": {},
   "outputs": [
    {
     "name": "stdout",
     "output_type": "stream",
     "text": [
      "44100 sr_flute sampling rate\n",
      "shape of magnitude before (1025, 1332)\n",
      "shape of phase before (1025, 1332)\n",
      "NJ shape (original):  (681786,)\n"
     ]
    }
   ],
   "source": [
    "# Load in sounds\n",
    "NJ, srNJ = librosa.load('NewJeansOMG.wav', sr=None, mono=True)\n",
    "print(srNJ, \"sr_flute sampling rate\")\n",
    "D = librosa.stft(NJ)\n",
    "magnitudeNJ = np.abs(D)\n",
    "phaseNJ = np.angle(D)\n",
    "magnitudeNJ = np.array(magnitudeNJ)\n",
    "phaseNJ = np.array(phaseNJ)\n",
    "print(\"shape of magnitude before\", magnitudeNJ.shape)\n",
    "print(\"shape of phase before\", phaseNJ.shape)\n",
    "print(\"NJ shape (original): \", NJ.shape)"
   ]
  },
  {
   "cell_type": "code",
   "execution_count": 26,
   "id": "40276251-99cf-452a-94ab-9804c955da86",
   "metadata": {},
   "outputs": [
    {
     "ename": "SystemError",
     "evalue": "CPUDispatcher(<function carve_seam at 0x12e2b0e00>) returned a result with an exception set",
     "output_type": "error",
     "traceback": [
      "\u001b[0;31m---------------------------------------------------------------------------\u001b[0m",
      "\u001b[0;31mKeyboardInterrupt\u001b[0m                         Traceback (most recent call last)",
      "File \u001b[0;32m/opt/anaconda3/lib/python3.11/site-packages/numba/core/serialize.py:30\u001b[0m, in \u001b[0;36m_numba_unpickle\u001b[0;34m(address, bytedata, hashed)\u001b[0m\n\u001b[1;32m     27\u001b[0m _unpickled_memo \u001b[38;5;241m=\u001b[39m {}\n\u001b[0;32m---> 30\u001b[0m \u001b[38;5;28;01mdef\u001b[39;00m \u001b[38;5;21m_numba_unpickle\u001b[39m(address, bytedata, hashed):\n\u001b[1;32m     31\u001b[0m \u001b[38;5;250m    \u001b[39m\u001b[38;5;124;03m\"\"\"Used by `numba_unpickle` from _helperlib.c\u001b[39;00m\n\u001b[1;32m     32\u001b[0m \n\u001b[1;32m     33\u001b[0m \u001b[38;5;124;03m    Parameters\u001b[39;00m\n\u001b[0;32m   (...)\u001b[0m\n\u001b[1;32m     42\u001b[0m \u001b[38;5;124;03m        unpickled object\u001b[39;00m\n\u001b[1;32m     43\u001b[0m \u001b[38;5;124;03m    \"\"\"\u001b[39;00m\n",
      "\u001b[0;31mKeyboardInterrupt\u001b[0m: ",
      "\nThe above exception was the direct cause of the following exception:\n",
      "\u001b[0;31mSystemError\u001b[0m                               Traceback (most recent call last)",
      "\u001b[0;31mSystemError\u001b[0m: <function _numba_unpickle at 0x10de3ae80> returned a result with an exception set",
      "\nThe above exception was the direct cause of the following exception:\n",
      "\u001b[0;31mSystemError\u001b[0m                               Traceback (most recent call last)",
      "Cell \u001b[0;32mIn[26], line 3\u001b[0m\n\u001b[1;32m      1\u001b[0m n_of_seams \u001b[38;5;241m=\u001b[39m \u001b[38;5;241m800\u001b[39m\n\u001b[1;32m      2\u001b[0m start \u001b[38;5;241m=\u001b[39m time\u001b[38;5;241m.\u001b[39mtime()\n\u001b[0;32m----> 3\u001b[0m magnitude, phase \u001b[38;5;241m=\u001b[39m carve_audio(n_of_seams, magnitudeNJ, phaseNJ, is_vertical\u001b[38;5;241m=\u001b[39m\u001b[38;5;28;01mTrue\u001b[39;00m)\n\u001b[1;32m      4\u001b[0m end \u001b[38;5;241m=\u001b[39m time\u001b[38;5;241m.\u001b[39mtime()\n\u001b[1;32m      5\u001b[0m \u001b[38;5;28mprint\u001b[39m(\u001b[38;5;124m\"\u001b[39m\u001b[38;5;124mshape of magnitude after\u001b[39m\u001b[38;5;124m\"\u001b[39m, magnitude\u001b[38;5;241m.\u001b[39mshape)\n",
      "Cell \u001b[0;32mIn[24], line 79\u001b[0m, in \u001b[0;36mcarve_audio\u001b[0;34m(n_of_seams, magnitude, phase, is_vertical)\u001b[0m\n\u001b[1;32m     77\u001b[0m     \u001b[38;5;28;01mfor\u001b[39;00m _ \u001b[38;5;129;01min\u001b[39;00m \u001b[38;5;28mrange\u001b[39m(n_of_seams):\n\u001b[1;32m     78\u001b[0m         seam_path \u001b[38;5;241m=\u001b[39m find_vertical_seam(magnitude)\n\u001b[0;32m---> 79\u001b[0m         magnitude, phase \u001b[38;5;241m=\u001b[39m carve_seam(magnitude, phase, seam_path)\n\u001b[1;32m     80\u001b[0m \u001b[38;5;28;01melse\u001b[39;00m:\n\u001b[1;32m     81\u001b[0m     magnitude \u001b[38;5;241m=\u001b[39m np\u001b[38;5;241m.\u001b[39mrot90(magnitude, k\u001b[38;5;241m=\u001b[39m\u001b[38;5;241m-\u001b[39m\u001b[38;5;241m1\u001b[39m)\n",
      "\u001b[0;31mSystemError\u001b[0m: CPUDispatcher(<function carve_seam at 0x12e2b0e00>) returned a result with an exception set"
     ]
    }
   ],
   "source": [
    "n_of_seams = 800\n",
    "start = time.time()\n",
    "magnitude, phase = carve_audio(n_of_seams, magnitudeNJ, phaseNJ, is_vertical=True)\n",
    "end = time.time()\n",
    "print(\"shape of magnitude after\", magnitude.shape)\n",
    "print(\"shape of phase after\", phase.shape)\n",
    "print(\"The time of execution of above program is :\",\n",
    "      (end-start), \"s\")\n",
    "# print(\"The time of execution of above program is :\",\n",
    "#       (end-start) * 10**3, \"ms\")"
   ]
  },
  {
   "cell_type": "code",
   "execution_count": 14,
   "id": "188eadaf-f7de-45f1-9a6a-2dce227b52df",
   "metadata": {},
   "outputs": [],
   "source": [
    "#horizontal"
   ]
  },
  {
   "cell_type": "code",
   "execution_count": 16,
   "id": "faec6a2c-3179-44e4-850c-df5522c74100",
   "metadata": {},
   "outputs": [
    {
     "name": "stdout",
     "output_type": "stream",
     "text": [
      "44100 sr_flute sampling rate\n",
      "shape of magnitude before (1025, 1332)\n",
      "shape of phase before (1025, 1332)\n",
      "44100\n",
      "D shape:  (1025, 1332)\n",
      "NJH shape (original signal):  (681786,)\n"
     ]
    }
   ],
   "source": [
    "#NJ, srNJ = librosa.load('NewJeansOMG.wav', sr=None, mono=False)\n",
    "NJH, srNJH = librosa.load('NewJeansOMG.wav', sr=None, mono=True)\n",
    "print(srNJ, \"sr_flute sampling rate\")\n",
    "D = librosa.stft(NJH)\n",
    "magnitudeNJH = np.abs(D)\n",
    "phaseNJH = np.angle(D)\n",
    "magnitudeNJH = np.array(magnitudeNJH)\n",
    "phaseNJH = np.array(phaseNJH)\n",
    "print(\"shape of magnitude before\", magnitudeNJH.shape)\n",
    "print(\"shape of phase before\", phaseNJH.shape)\n",
    "print(srNJH)\n",
    "print(\"D shape: \", D.shape)\n",
    "print(\"NJH shape (original signal): \", NJH.shape)"
   ]
  },
  {
   "cell_type": "code",
   "execution_count": 18,
   "id": "1c76990f-1dad-4bea-ac72-b5ff961ce83f",
   "metadata": {},
   "outputs": [
    {
     "name": "stdout",
     "output_type": "stream",
     "text": [
      "shape of magnitude after (1025, 1332)\n",
      "shape of phase after (1025, 1332)\n",
      "The time of execution of above program is : 3124.220848083496 ms\n"
     ]
    }
   ],
   "source": [
    "# DONT RUN UNLESS YOU WANT TO DO THE CARVING\n",
    "n_of_seams = 500\n",
    "start = time.time()\n",
    "magnitude1, phase1 = carve_audio(n_of_seams, magnitudeNJH, phaseNJH, is_vertical=False)\n",
    "end = time.time()\n",
    "print(\"shape of magnitude after\", magnitude1.shape)\n",
    "print(\"shape of phase after\", phase1.shape)\n",
    "print(\"The time of execution of above program is :\",\n",
    "      (end-start) * 10**3, \"ms\")"
   ]
  },
  {
   "cell_type": "code",
   "execution_count": null,
   "id": "98c0be5a-ca65-46d3-95b9-05ed76dd44e1",
   "metadata": {},
   "outputs": [],
   "source": []
  }
 ],
 "metadata": {
  "kernelspec": {
   "display_name": "Python 3 (ipykernel)",
   "language": "python",
   "name": "python3"
  },
  "language_info": {
   "codemirror_mode": {
    "name": "ipython",
    "version": 3
   },
   "file_extension": ".py",
   "mimetype": "text/x-python",
   "name": "python",
   "nbconvert_exporter": "python",
   "pygments_lexer": "ipython3",
   "version": "3.11.7"
  }
 },
 "nbformat": 4,
 "nbformat_minor": 5
}
